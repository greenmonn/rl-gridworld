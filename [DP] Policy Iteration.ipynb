{
 "cells": [
  {
   "cell_type": "markdown",
   "metadata": {},
   "source": [
    "## Dynamic Programming: Policy Iteration\n",
    "\n",
    "Task: Implement policy iteration in 4x4 GridWorld\n",
    "\n",
    "```\n",
    "===========\n",
    "T  x  o  o\n",
    "o  o  o  o\n",
    "o  o  o  o\n",
    "o  o  o  T\n",
    "===========\n",
    "\n",
    "T: target\n",
    "x: current position of agent\n",
    "o: empty\n",
    "```"
   ]
  },
  {
   "cell_type": "code",
   "execution_count": 1,
   "metadata": {},
   "outputs": [],
   "source": [
    "import numpy as np\n",
    "import pprint\n",
    "import sys\n",
    "\n",
    "from envs.gridworld import GridworldEnv"
   ]
  },
  {
   "cell_type": "markdown",
   "metadata": {},
   "source": [
    "To get familiar with the GridWorld environment, let's explore the world with random policy.\n",
    "\n",
    "We can do the action in the environment with `env.step` function.\n",
    "\n",
    "For example:\n",
    "```python\n",
    "observation, reward, done, info = env.step(action)\n",
    "```"
   ]
  },
  {
   "cell_type": "code",
   "execution_count": 2,
   "metadata": {},
   "outputs": [],
   "source": [
    "env = GridworldEnv()\n",
    "directions = ['UP', 'RIGHT', 'DOWN', 'LEFT']\n",
    "discount_factor = 1.0\n",
    "theta = 0.00001"
   ]
  },
  {
   "cell_type": "code",
   "execution_count": 3,
   "metadata": {},
   "outputs": [
    {
     "name": "stdout",
     "output_type": "stream",
     "text": [
      "Start Position: (1, 2)\n",
      "Number of States: 16\n",
      "Number of Actions: 4\n",
      "==========\n",
      "T  o  o  o\n",
      "o  o  x  o\n",
      "o  o  o  o\n",
      "o  o  o  T\n",
      "==========\n",
      "\n",
      "After an Action: UP\n",
      "==========\n",
      "T  o  x  o\n",
      "o  o  o  o\n",
      "o  o  o  o\n",
      "o  o  o  T\n",
      "==========\n"
     ]
    }
   ],
   "source": [
    "random_policy = np.ones([env.nS, env.nA]) / env.nA\n",
    "\n",
    "\n",
    "current_state = env.s = 6  # Fix start point\n",
    "\n",
    "print('Start Position: ({}, {})'.format(\n",
    "        current_state // env.shape[1], current_state % env.shape[1]))\n",
    "action = np.argmax(random_policy[current_state])\n",
    "print('Number of States: {}'.format(env.nS))\n",
    "print('Number of Actions: {}'.format(env.nA))\n",
    "env._render() # print current environment\n",
    "print()\n",
    "\n",
    "\n",
    "observation, reward, done, info = env.step(action)\n",
    "\n",
    "current_state = observation\n",
    "print('After an Action: {}'.format(directions[action]))\n",
    "env._render()\n"
   ]
  },
  {
   "cell_type": "markdown",
   "metadata": {},
   "source": [
    "### Policy Evaluation\n",
    "\n",
    "Policy evaluation produces **value function** for every states **from given policy**."
   ]
  },
  {
   "cell_type": "code",
   "execution_count": 4,
   "metadata": {},
   "outputs": [],
   "source": [
    "def policy_evaluation(env, policy):\n",
    "    V = np.zeros(env.nS)\n",
    "\n",
    "    while True:\n",
    "        delta = 0\n",
    "        for s in range(env.nS):\n",
    "            v = 0\n",
    "            for a, action_prob in enumerate(policy[s]):\n",
    "                for prob, next_state, reward, done in env.P[s][a]:\n",
    "                    v += action_prob * prob * \\\n",
    "                        (reward + discount_factor * V[next_state])\n",
    "\n",
    "            delta = max(delta, np.abs(v - V[s]))\n",
    "            V[s] = v\n",
    "\n",
    "        if delta < theta:\n",
    "            break\n",
    "\n",
    "    return np.array(V)"
   ]
  },
  {
   "cell_type": "code",
   "execution_count": 5,
   "metadata": {},
   "outputs": [],
   "source": [
    "def test_policy_evaluation():\n",
    "    # Evaluate random policy\n",
    "\n",
    "    random_policy = np.ones([env.nS, env.nA]) / env.nA\n",
    "    v = policy_evaluation(env, random_policy)\n",
    "\n",
    "    print(\"Value Function:\")\n",
    "    print(v.reshape(env.shape))\n",
    "    print(\"\")"
   ]
  },
  {
   "cell_type": "code",
   "execution_count": 6,
   "metadata": {},
   "outputs": [
    {
     "name": "stdout",
     "output_type": "stream",
     "text": [
      "Value Function:\n",
      "[[  0.         -13.99993529 -19.99990698 -21.99989761]\n",
      " [-13.99993529 -17.9999206  -19.99991379 -19.99991477]\n",
      " [-19.99990698 -19.99991379 -17.99992725 -13.99994569]\n",
      " [-21.99989761 -19.99991477 -13.99994569   0.        ]]\n",
      "\n"
     ]
    }
   ],
   "source": [
    "test_policy_evaluation()"
   ]
  },
  {
   "attachments": {},
   "cell_type": "markdown",
   "metadata": {},
   "source": [
    "### (Greedy) Policy Improvement\n",
    "\n",
    "Now, let's implement greedy-style policy improvement for actually updating to the better policy, that chooses the action that gives the maximum value currently.\n",
    "\n",
    "![image.png](https://www.dropbox.com/s/tg8rzuelo4besk6/policy_iteration.png?dl=1)\n",
    "\n",
    "`one_step_lookahead` function calculates the value of each action using the value function from policy evaluation."
   ]
  },
  {
   "cell_type": "code",
   "execution_count": 14,
   "metadata": {},
   "outputs": [],
   "source": [
    "def policy_improvement(env, policy):\n",
    "        def one_step_lookahead(state, V):\n",
    "            A = np.zeros(env.nA)\n",
    "            for a in range(env.nA):\n",
    "                for prob, next_state, reward, done in env.P[state][a]:\n",
    "                    A[a] += prob * \\\n",
    "                        (reward + discount_factor * V[next_state])\n",
    "            return A\n",
    "\n",
    "        V = policy_evaluation(env, policy)\n",
    "\n",
    "        policy_stable = True\n",
    "\n",
    "        for s in range(env.nS):\n",
    "            chosen_a = np.argmax(policy[s])\n",
    "\n",
    "            action_values = one_step_lookahead(s, V)\n",
    "\n",
    "            # Use list: breaking the tie\n",
    "            max_indices = []\n",
    "            max_value = -99999\n",
    "            for i, value in enumerate(action_values):\n",
    "                if value == max_value:\n",
    "                    max_indices.append(i)\n",
    "                elif value > max_value:\n",
    "                    max_indices = [i]\n",
    "                    max_value = value\n",
    "\n",
    "            improved_policy = [0] * env.nA\n",
    "            prob = 1 / len(max_indices)\n",
    "            for i in max_indices:\n",
    "                improved_policy[i] = prob\n",
    "\n",
    "            policy[s] = improved_policy\n",
    "\n",
    "            best_a = np.argmax(action_values)\n",
    "\n",
    "            if chosen_a not in max_indices:\n",
    "                policy_stable = False\n",
    "\n",
    "        return policy, policy_stable"
   ]
  },
  {
   "cell_type": "code",
   "execution_count": 12,
   "metadata": {},
   "outputs": [],
   "source": [
    "def test_policy_improvement():\n",
    "    policy_stable = False\n",
    "    \n",
    "    # Start from random policy!\n",
    "    policy = random_policy\n",
    "    \n",
    "    # Until the policy doesn't improve anymore (converge)\n",
    "    while not policy_stable:\n",
    "        policy, policy_stable = policy_improvement(env, policy)\n",
    "\n",
    "    print(\"Policy Probability Distribution:\")\n",
    "    print(policy)\n",
    "    print(\"\")\n",
    "\n",
    "    print(\"Policy (0=up, 1=right, 2=down, 3=left):\")\n",
    "    print(np.reshape(np.argmax(policy, axis=1), env.shape))\n",
    "    print(\"\")"
   ]
  },
  {
   "cell_type": "code",
   "execution_count": 15,
   "metadata": {},
   "outputs": [
    {
     "name": "stdout",
     "output_type": "stream",
     "text": [
      "Policy Probability Distribution:\n",
      "[[0.25 0.25 0.25 0.25]\n",
      " [0.   0.   0.   1.  ]\n",
      " [0.   0.   0.   1.  ]\n",
      " [0.   0.   0.5  0.5 ]\n",
      " [1.   0.   0.   0.  ]\n",
      " [0.5  0.   0.   0.5 ]\n",
      " [0.25 0.25 0.25 0.25]\n",
      " [0.   0.   1.   0.  ]\n",
      " [1.   0.   0.   0.  ]\n",
      " [0.25 0.25 0.25 0.25]\n",
      " [0.   0.5  0.5  0.  ]\n",
      " [0.   0.   1.   0.  ]\n",
      " [0.5  0.5  0.   0.  ]\n",
      " [0.   1.   0.   0.  ]\n",
      " [0.   1.   0.   0.  ]\n",
      " [0.25 0.25 0.25 0.25]]\n",
      "\n",
      "Policy (0=up, 1=right, 2=down, 3=left):\n",
      "[[0 3 3 2]\n",
      " [0 0 0 2]\n",
      " [0 0 1 2]\n",
      " [0 1 1 0]]\n",
      "\n"
     ]
    }
   ],
   "source": [
    "test_policy_improvement()"
   ]
  },
  {
   "cell_type": "markdown",
   "metadata": {},
   "source": [
    "Now Let's simulate that the agent can explore the gridworld more efficiently by the improved policy!"
   ]
  },
  {
   "cell_type": "code",
   "execution_count": 19,
   "metadata": {},
   "outputs": [
    {
     "name": "stdout",
     "output_type": "stream",
     "text": [
      "Start Position: (2, 1)\n",
      "==========\n",
      "T  o  o  o\n",
      "o  o  o  o\n",
      "o  x  o  o\n",
      "o  o  o  T\n",
      "==========\n",
      "Action: UP\n",
      "==========\n",
      "T  o  o  o\n",
      "o  x  o  o\n",
      "o  o  o  o\n",
      "o  o  o  T\n",
      "==========\n",
      "Action: UP\n",
      "==========\n",
      "T  x  o  o\n",
      "o  o  o  o\n",
      "o  o  o  o\n",
      "o  o  o  T\n",
      "==========\n",
      "Action: LEFT\n",
      "==========\n",
      "x  o  o  o\n",
      "o  o  o  o\n",
      "o  o  o  o\n",
      "o  o  o  T\n",
      "==========\n"
     ]
    }
   ],
   "source": [
    "def get_action(state, policy):\n",
    "    return np.argmax(policy[state])\n",
    "\n",
    "def run_policy_iteration(env):\n",
    "    policy_stable = False\n",
    "    \n",
    "    policy = random_policy\n",
    "    while not policy_stable:\n",
    "        policy, policy_stable = policy_improvement(env, policy)\n",
    "        \n",
    "    return policy\n",
    "        \n",
    "env = GridworldEnv()\n",
    "current_state = env.s \n",
    "\n",
    "print('Start Position: ({}, {})'.format(\n",
    "    current_state // env.shape[1], current_state % env.shape[1]))\n",
    "\n",
    "env._render()\n",
    "\n",
    "policy = run_policy_iteration(env)\n",
    "\n",
    "done = False\n",
    "while not done:\n",
    "    action = get_action(current_state, policy)\n",
    "    observation, reward, done, info = env.step(action)\n",
    "\n",
    "    current_state = observation\n",
    "    print('Action: {}'.format(directions[action]))\n",
    "    env._render()"
   ]
  }
 ],
 "metadata": {
  "kernelspec": {
   "display_name": "Python 3",
   "language": "python",
   "name": "python3"
  },
  "language_info": {
   "codemirror_mode": {
    "name": "ipython",
    "version": 3
   },
   "file_extension": ".py",
   "mimetype": "text/x-python",
   "name": "python",
   "nbconvert_exporter": "python",
   "pygments_lexer": "ipython3",
   "version": "3.7.5"
  }
 },
 "nbformat": 4,
 "nbformat_minor": 4
}
