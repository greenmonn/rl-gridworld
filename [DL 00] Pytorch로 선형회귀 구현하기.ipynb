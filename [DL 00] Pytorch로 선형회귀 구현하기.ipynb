{
 "cells": [
  {
   "cell_type": "code",
   "execution_count": 1,
   "metadata": {},
   "outputs": [],
   "source": [
    "import torch\n",
    "import torch.nn as nn\n",
    "\n",
    "import numpy as np\n",
    "import matplotlib.pyplot as plt"
   ]
  },
  {
   "cell_type": "markdown",
   "metadata": {},
   "source": [
    "# Pytorch: An automatic differentiation tool\n",
    "\n",
    "`Pytorch`를 활용하면 복잡한 함수의 미분을 손쉽게 + 효율적으로 계산할 수 있습니다!\n",
    "`Pytorch`를 활용해서 복잡한 심층 신경망을 훈련할 때, 오차함수에 대한 파라미터의 편미분치를 계산을 손쉽게 수행할수 있습니다!"
   ]
  },
  {
   "cell_type": "markdown",
   "metadata": {},
   "source": [
    "## Pytorch 첫만남\n",
    "\n",
    "우리에게 아래와 같은 간단한 선형식이 주어져있다고 생각해볼까요?\n",
    "$$ y = wx $$ \n",
    "\n",
    "그러면 $\\frac{\\partial y}{\\partial w}$ 을 어떻게 계산 할 수 있을까요?\n",
    "일단 직접 미분을 해보면$\\frac{\\partial y}{\\partial w} = x$ 이 되니, 간단한\n",
    "예제에서 `pytorch`로 해당 값을 계산하는 방법을 알아보도록 합시다!"
   ]
  },
  {
   "cell_type": "code",
   "execution_count": 2,
   "metadata": {},
   "outputs": [],
   "source": [
    "# 랭크1 / 사이즈1 이며 값은 1*2 인 pytorch tensor를 하나 만듭니다.\n",
    "x = torch.ones(1) * 2\n",
    "\n",
    "# 랭크1 / 사이즈1 이며 값은 1 인 pytorch tensor를 하나 만듭니다.\n",
    "w = torch.ones(1, requires_grad=True)\n",
    "\n",
    "y = w * x"
   ]
  },
  {
   "cell_type": "markdown",
   "metadata": {},
   "source": [
    "## 편미분 계산하기!\n",
    "\n",
    "pytorch 에서는 미분값을 계산하고 싶은 텐서에 `.backward()` 를 붙여주는 것으로 연결되어있는 텐서 중 `gradient` 를 계산해야하는 텐서(들)에 대해서 편미분치들을 계산할수 있습니다. `requires_grad=True`를 통해서 어떤 텐서에 미분값을 계산할지 할당해줄 수 있습니다."
   ]
  },
  {
   "cell_type": "code",
   "execution_count": 3,
   "metadata": {},
   "outputs": [],
   "source": [
    "y.backward()"
   ]
  },
  {
   "cell_type": "markdown",
   "metadata": {},
   "source": [
    "## 편미분값 확인하기!\n",
    "\n",
    "`텐서.grad` 를 활용해서 특정 텐서의 gradient 값을 확인해볼 수 있습니다. 한번 `w.grad`를 활용해서 `y` 에 대한 `w`의 편미분값을 확인해볼까요?"
   ]
  },
  {
   "cell_type": "code",
   "execution_count": 4,
   "metadata": {},
   "outputs": [
    {
     "data": {
      "text/plain": [
       "tensor([2.])"
      ]
     },
     "execution_count": 4,
     "metadata": {},
     "output_type": "execute_result"
    }
   ],
   "source": [
    "w.grad"
   ]
  },
  {
   "cell_type": "markdown",
   "metadata": {},
   "source": [
    "## 그러면 requires_grad = False 인 경우는?"
   ]
  },
  {
   "cell_type": "code",
   "execution_count": 5,
   "metadata": {},
   "outputs": [],
   "source": [
    "x.grad"
   ]
  },
  {
   "cell_type": "markdown",
   "metadata": {},
   "source": [
    "## torch.nn, Neural Network 패키지\n",
    "\n",
    "`pytorch`에는 이미 다양한 neural network들의 모듈들을 구현해 놓았습니다. 그 중에 가장 간단하지만 가장 많이 쓰이는 `nn.Linear` 에 대해 알아보면서 `pytorch`의 `nn.Module`에 대해서 알아보도록 합시다."
   ]
  },
  {
   "cell_type": "markdown",
   "metadata": {},
   "source": [
    "## `nn.Linear` 돌아보기\n",
    "\n",
    "`nn.Linear` 은 앞서 배운 선형회귀 및 다층 퍼셉트론 모델의 한 층에 해당하는 파라미터 $w$, $b$ 를 가지고 있습니다. 예시로 입력의 dimension 이 10이고 출력의 dimension 이 1인 `nn.Linear` 모듈을 만들어 봅시다!"
   ]
  },
  {
   "cell_type": "code",
   "execution_count": 6,
   "metadata": {},
   "outputs": [],
   "source": [
    "lin = nn.Linear(in_features=10, out_features=1)"
   ]
  },
  {
   "cell_type": "code",
   "execution_count": 7,
   "metadata": {},
   "outputs": [
    {
     "name": "stdout",
     "output_type": "stream",
     "text": [
      "Parameter containing:\n",
      "tensor([[-0.2736,  0.1683, -0.0634, -0.1103,  0.2478, -0.0918, -0.0597, -0.2598,\n",
      "         -0.0378,  0.1476]], requires_grad=True)\n",
      "torch.Size([1, 10])\n",
      "\n",
      "\n",
      "Parameter containing:\n",
      "tensor([0.0315], requires_grad=True)\n",
      "torch.Size([1])\n",
      "\n",
      "\n"
     ]
    }
   ],
   "source": [
    "for p in lin.parameters():\n",
    "    print(p)\n",
    "    print(p.shape)\n",
    "    print('\\n')"
   ]
  },
  {
   "cell_type": "markdown",
   "metadata": {},
   "source": [
    "## `Linear` 모듈로 $y = Wx+b$ 계산하기\n",
    "\n",
    "선형회귀식도 그랬지만, 다층 퍼셉트론 모델도 하나의 레이어는 아래의 수식을 계산했던 것을 기억하시죠?\n",
    "$$y = Wx+b$$\n",
    "\n",
    "`nn.Linear`를 활용해서 저 수식을 계산해볼까요?\n",
    "\n",
    "검산을 쉽게 하기 위해서 W의 값은 모두 1.0 으로 b 는 5.0 으로 만들어두겠습니다."
   ]
  },
  {
   "cell_type": "code",
   "execution_count": 8,
   "metadata": {},
   "outputs": [],
   "source": [
    "lin.weight.data = torch.ones_like(lin.weight.data)\n",
    "lin.bias.data = torch.ones_like(lin.bias.data) * 5.0"
   ]
  },
  {
   "cell_type": "code",
   "execution_count": 9,
   "metadata": {},
   "outputs": [
    {
     "name": "stdout",
     "output_type": "stream",
     "text": [
      "Parameter containing:\n",
      "tensor([[1., 1., 1., 1., 1., 1., 1., 1., 1., 1.]], requires_grad=True)\n",
      "torch.Size([1, 10])\n",
      "\n",
      "\n",
      "Parameter containing:\n",
      "tensor([5.], requires_grad=True)\n",
      "torch.Size([1])\n",
      "\n",
      "\n"
     ]
    }
   ],
   "source": [
    "for p in lin.parameters():\n",
    "    print(p)\n",
    "    print(p.shape)\n",
    "    print('\\n')"
   ]
  },
  {
   "cell_type": "code",
   "execution_count": 10,
   "metadata": {},
   "outputs": [],
   "source": [
    "x = torch.ones(1, 10) # rank2 tensor를 만듭니다.\n",
    "y_hat = lin(x)"
   ]
  },
  {
   "cell_type": "code",
   "execution_count": 11,
   "metadata": {},
   "outputs": [
    {
     "name": "stdout",
     "output_type": "stream",
     "text": [
      "torch.Size([1, 1])\n",
      "tensor([[15.]], grad_fn=<AddmmBackward>)\n"
     ]
    }
   ],
   "source": [
    "print(y_hat.shape)\n",
    "print(y_hat)"
   ]
  },
  {
   "cell_type": "markdown",
   "metadata": {},
   "source": [
    "## ???!\n",
    "\n",
    "여기서 조금 이해가 안가는게 두개 정도 있으실듯합니다.\n",
    "1. 왜 Rank 2 tensor?\n",
    "2. lin(x) 는 도대체 무엇?\n",
    "\n",
    "하나하나 답해보도록 할게요.\n",
    "1. 파이토치의 `nn` 에 정의되어있는 클래스들은 입력의 가장 첫번째 디멘젼을 `배치 사이즈`로 해석합니다. \n",
    "\n",
    "2. 파이썬에 익숙하신 분들은 object(x) 는 object.\\_\\_call\\_\\_(x)에 정의되어있는 함수를 실행시키신다는 것을 아실텐데요. 파이토치의 `nn.Module`은 python 객체의 \\_\\_call\\_\\_()을 오버라이드하는 함수인 forward()를 구현하는 것을 __권장__ 하고 있습니다. forward() 안에서 실제로 파라미터와 인풋을 가지고 특정 레이어의 연산과정을 구현하게 됩니다.\n",
    "\n",
    "여러가지 이유가 있겠지만, 파이토치가 내부적으로 foward() 의 실행의 전/후로 사용자 친화적인 환경을 제공하기위해서 추가적인 작업들을 해줍니다. \n",
    "\n",
    "이 부분은 다음 실습에서 다층 퍼셉트론 모델을 만들면서 조금 더 자세히 설명해볼게요!"
   ]
  },
  {
   "cell_type": "markdown",
   "metadata": {},
   "source": [
    "## Pytorch 로 간단히! 선형회귀 구현하기\n",
    "\n",
    "저번 실습에서 numpy 로 구현했던 Linear regression 모델을 다시 한번 파이토치로 구현해볼까요? <br>\n",
    "몇 줄이면 끝날 정도로 간단합니다 :)"
   ]
  },
  {
   "cell_type": "code",
   "execution_count": 12,
   "metadata": {},
   "outputs": [],
   "source": [
    "def generate_samples(n_samples: int, \n",
    "                     w: float = 1.0, \n",
    "                     b: float = 0.5,\n",
    "                     x_range=[-1.0,1.0]):\n",
    "    \n",
    "    xs = np.random.uniform(low=x_range[0], high=x_range[1], size=n_samples)\n",
    "    ys = w * xs + b\n",
    "    \n",
    "    xs = torch.tensor(xs).view(-1,1).float() # 파이토치 nn.Module 은 배치가 첫 디멘젼!\n",
    "    ys = torch.tensor(ys).view(-1,1).float()\n",
    "    return xs, ys"
   ]
  },
  {
   "cell_type": "code",
   "execution_count": 13,
   "metadata": {},
   "outputs": [],
   "source": [
    "w = 1.0\n",
    "b = 0.5\n",
    "xs, ys = generate_samples(30, w=w, b=b)"
   ]
  },
  {
   "cell_type": "code",
   "execution_count": 14,
   "metadata": {},
   "outputs": [
    {
     "name": "stdout",
     "output_type": "stream",
     "text": [
      "Parameter containing:\n",
      "tensor([[-0.4612]], requires_grad=True)\n",
      "None\n",
      "Parameter containing:\n",
      "tensor([0.1778], requires_grad=True)\n",
      "None\n"
     ]
    }
   ],
   "source": [
    "lin_model = nn.Linear(in_features=1, out_features=1)\n",
    "\n",
    "for p in lin_model.parameters():\n",
    "    print(p)\n",
    "    print(p.grad)"
   ]
  },
  {
   "cell_type": "code",
   "execution_count": 15,
   "metadata": {},
   "outputs": [],
   "source": [
    "ys_hat = lin_model(xs)"
   ]
  },
  {
   "cell_type": "markdown",
   "metadata": {},
   "source": [
    "## Loss 함수는? MSE!\n",
    "\n",
    "`pytorch`에서는 자주 쓰이는 loss 함수들에 대해서도 미리 구현을 해두었습니다.\n",
    "이번 실습에서는 __numpy로 선형회귀 모델 만들기__ 에서 사용됐던 MSE 를 오차함수로 사용해볼까요?"
   ]
  },
  {
   "cell_type": "code",
   "execution_count": 16,
   "metadata": {},
   "outputs": [],
   "source": [
    "criteria = nn.MSELoss()\n",
    "loss = criteria(ys_hat, ys)"
   ]
  },
  {
   "cell_type": "markdown",
   "metadata": {},
   "source": [
    "## 경사하강법을 활용해서 파라미터 업데이트하기!\n",
    "\n",
    "`pytorch`는 여러분들을 위해서 Optimizer들도 구현해 두었습니다. 일단은 가장 간단한 Vanilla 경사하강법을 활용해 볼까요? \n",
    "\n",
    "Optimizer 에 따라서 다양한 인자들을 활용하지만 기본적으로\n",
    "`params` 와 `lr`을 지정해주면 나머지는 특정 optimizer 마다 잘되는 것으로 알려진 인자들로 optimizer 을 손쉽게 만들 수 있습니다."
   ]
  },
  {
   "cell_type": "code",
   "execution_count": 17,
   "metadata": {},
   "outputs": [],
   "source": [
    "opt = torch.optim.SGD(params=lin_model.parameters(), lr=0.01)"
   ]
  },
  {
   "cell_type": "markdown",
   "metadata": {},
   "source": [
    "## 잊지마세요! opt.zero_grad()\n",
    "\n",
    "`pytorch`로 편미분을 계산하기전에, 꼭 `opt.zero_grad()` 함수를 이용해서\n",
    "편미분 계산이 필요한 텐서들에게 0.0 값으로 gradient 값들을 초기화 해주는것을 권장합니다."
   ]
  },
  {
   "cell_type": "code",
   "execution_count": 18,
   "metadata": {},
   "outputs": [
    {
     "name": "stdout",
     "output_type": "stream",
     "text": [
      "Parameter containing:\n",
      "tensor([[-0.4612]], requires_grad=True)\n",
      "None\n",
      "Parameter containing:\n",
      "tensor([0.1778], requires_grad=True)\n",
      "None\n"
     ]
    }
   ],
   "source": [
    "opt.zero_grad()\n",
    "for p in lin_model.parameters():\n",
    "    print(p)\n",
    "    print(p.grad)"
   ]
  },
  {
   "cell_type": "code",
   "execution_count": 19,
   "metadata": {},
   "outputs": [],
   "source": [
    "loss.backward()"
   ]
  },
  {
   "cell_type": "code",
   "execution_count": 20,
   "metadata": {},
   "outputs": [
    {
     "name": "stdout",
     "output_type": "stream",
     "text": [
      "Parameter containing:\n",
      "tensor([[-0.4526]], requires_grad=True)\n",
      "tensor([[-0.8631]])\n",
      "Parameter containing:\n",
      "tensor([0.1858], requires_grad=True)\n",
      "tensor([-0.7991])\n"
     ]
    }
   ],
   "source": [
    "opt.step()\n",
    "for p in lin_model.parameters():\n",
    "    print(p)\n",
    "    print(p.grad)"
   ]
  },
  {
   "cell_type": "markdown",
   "metadata": {},
   "source": [
    "## 경사하강법을 활용해서 최적 파라미터를 찾아봅시다!"
   ]
  },
  {
   "cell_type": "code",
   "execution_count": 73,
   "metadata": {},
   "outputs": [],
   "source": [
    "def run_sgd(n_steps: int = 1000,\n",
    "            report_every: int = 100,\n",
    "            verbose=True):\n",
    "    \n",
    "    lin_model = nn.Linear(in_features=1, out_features=1)\n",
    "    opt = torch.optim.SGD(params=lin_model.parameters(), lr=0.01)\n",
    "    sgd_losses = []\n",
    "\n",
    "    for i in range(n_steps):\n",
    "        ys_hat = lin_model(xs)\n",
    "        loss = criteria(ys_hat, ys)\n",
    "        opt.zero_grad()\n",
    "        loss.backward()\n",
    "        opt.step()\n",
    "\n",
    "        if i % report_every == 0:\n",
    "            if verbose:\n",
    "                print('\\n')\n",
    "                print(\"{}th update: {}\".format(i,loss))\n",
    "                for p in lin_model.parameters():\n",
    "                    print(p)\n",
    "            sgd_losses.append(loss.log10().detach().numpy())\n",
    "    return sgd_losses"
   ]
  },
  {
   "cell_type": "code",
   "execution_count": 74,
   "metadata": {},
   "outputs": [
    {
     "name": "stdout",
     "output_type": "stream",
     "text": [
      "\n",
      "\n",
      "0th update: 2.1974165439605713\n",
      "Parameter containing:\n",
      "tensor([[-0.2309]], requires_grad=True)\n",
      "Parameter containing:\n",
      "tensor([-0.7368], requires_grad=True)\n",
      "\n",
      "\n",
      "100th update: 0.15077105164527893\n",
      "Parameter containing:\n",
      "tensor([[0.3403]], requires_grad=True)\n",
      "Parameter containing:\n",
      "tensor([0.3739], requires_grad=True)\n",
      "\n",
      "\n",
      "200th update: 0.03931032121181488\n",
      "Parameter containing:\n",
      "tensor([[0.6292]], requires_grad=True)\n",
      "Parameter containing:\n",
      "tensor([0.5043], requires_grad=True)\n",
      "\n",
      "\n",
      "300th update: 0.0126284658908844\n",
      "Parameter containing:\n",
      "tensor([[0.7892]], requires_grad=True)\n",
      "Parameter containing:\n",
      "tensor([0.5125], requires_grad=True)\n",
      "\n",
      "\n",
      "400th update: 0.00410833116620779\n",
      "Parameter containing:\n",
      "tensor([[0.8798]], requires_grad=True)\n",
      "Parameter containing:\n",
      "tensor([0.5084], requires_grad=True)\n",
      "\n",
      "\n",
      "500th update: 0.0013374335831031203\n",
      "Parameter containing:\n",
      "tensor([[0.9314]], requires_grad=True)\n",
      "Parameter containing:\n",
      "tensor([0.5050], requires_grad=True)\n",
      "\n",
      "\n",
      "600th update: 0.00043541108607314527\n",
      "Parameter containing:\n",
      "tensor([[0.9609]], requires_grad=True)\n",
      "Parameter containing:\n",
      "tensor([0.5029], requires_grad=True)\n",
      "\n",
      "\n",
      "700th update: 0.00014175208343658596\n",
      "Parameter containing:\n",
      "tensor([[0.9777]], requires_grad=True)\n",
      "Parameter containing:\n",
      "tensor([0.5016], requires_grad=True)\n",
      "\n",
      "\n",
      "800th update: 4.6147313696565107e-05\n",
      "Parameter containing:\n",
      "tensor([[0.9873]], requires_grad=True)\n",
      "Parameter containing:\n",
      "tensor([0.5009], requires_grad=True)\n",
      "\n",
      "\n",
      "900th update: 1.5022488696558867e-05\n",
      "Parameter containing:\n",
      "tensor([[0.9927]], requires_grad=True)\n",
      "Parameter containing:\n",
      "tensor([0.5005], requires_grad=True)\n"
     ]
    }
   ],
   "source": [
    "_ = run_sgd()"
   ]
  },
  {
   "cell_type": "markdown",
   "metadata": {},
   "source": [
    "## 다른 Optimizer도 사용해볼까요?\n",
    "\n",
    "수업시간에 배웠던 Adam 으로 최적화를 하면 어떤결과가 나올까요?"
   ]
  },
  {
   "cell_type": "code",
   "execution_count": 71,
   "metadata": {},
   "outputs": [],
   "source": [
    "def run_adam(n_steps: int = 1000,\n",
    "             report_every: int = 100,\n",
    "             verbose=True):\n",
    "    \n",
    "    lin_model = nn.Linear(in_features=1, out_features=1)\n",
    "    opt = torch.optim.Adam(params=lin_model.parameters(), lr=0.01)\n",
    "    adam_losses = []\n",
    "\n",
    "    for i in range(n_steps):\n",
    "        ys_hat = lin_model(xs)\n",
    "        loss = criteria(ys_hat, ys)\n",
    "        opt.zero_grad()\n",
    "        loss.backward()\n",
    "        opt.step()\n",
    "\n",
    "        if i % report_every == 0:\n",
    "            if verbose:\n",
    "                print('\\n')\n",
    "                print(\"{}th update: {}\".format(i,loss))\n",
    "                for p in lin_model.parameters():\n",
    "                    print(p)\n",
    "            adam_losses.append(loss.log10().detach().numpy())\n",
    "    \n",
    "    \n",
    "    \n",
    "    return adam_losses"
   ]
  },
  {
   "cell_type": "code",
   "execution_count": 72,
   "metadata": {},
   "outputs": [
    {
     "name": "stdout",
     "output_type": "stream",
     "text": [
      "\n",
      "\n",
      "0th update: 1.7090717554092407\n",
      "Parameter containing:\n",
      "tensor([[0.4908]], requires_grad=True)\n",
      "Parameter containing:\n",
      "tensor([-0.7405], requires_grad=True)\n",
      "\n",
      "\n",
      "100th update: 0.179587259888649\n",
      "Parameter containing:\n",
      "tensor([[1.0796]], requires_grad=True)\n",
      "Parameter containing:\n",
      "tensor([0.0798], requires_grad=True)\n",
      "\n",
      "\n",
      "200th update: 0.006569552235305309\n",
      "Parameter containing:\n",
      "tensor([[1.0252]], requires_grad=True)\n",
      "Parameter containing:\n",
      "tensor([0.4203], requires_grad=True)\n",
      "\n",
      "\n",
      "300th update: 6.011405275785364e-05\n",
      "Parameter containing:\n",
      "tensor([[1.0024]], requires_grad=True)\n",
      "Parameter containing:\n",
      "tensor([0.4924], requires_grad=True)\n",
      "\n",
      "\n",
      "400th update: 1.1123709242610857e-07\n",
      "Parameter containing:\n",
      "tensor([[1.0001]], requires_grad=True)\n",
      "Parameter containing:\n",
      "tensor([0.4997], requires_grad=True)\n",
      "\n",
      "\n",
      "500th update: 2.307162100256832e-11\n",
      "Parameter containing:\n",
      "tensor([[1.0000]], requires_grad=True)\n",
      "Parameter containing:\n",
      "tensor([0.5000], requires_grad=True)\n",
      "\n",
      "\n",
      "600th update: 1.6295252365343404e-13\n",
      "Parameter containing:\n",
      "tensor([[1.0000]], requires_grad=True)\n",
      "Parameter containing:\n",
      "tensor([0.5000], requires_grad=True)\n",
      "\n",
      "\n",
      "700th update: 1.6295252365343404e-13\n",
      "Parameter containing:\n",
      "tensor([[1.0000]], requires_grad=True)\n",
      "Parameter containing:\n",
      "tensor([0.5000], requires_grad=True)\n",
      "\n",
      "\n",
      "800th update: 1.1990546901728683e-13\n",
      "Parameter containing:\n",
      "tensor([[1.0000]], requires_grad=True)\n",
      "Parameter containing:\n",
      "tensor([0.5000], requires_grad=True)\n",
      "\n",
      "\n",
      "900th update: 1.1990546901728683e-13\n",
      "Parameter containing:\n",
      "tensor([[1.0000]], requires_grad=True)\n",
      "Parameter containing:\n",
      "tensor([0.5000], requires_grad=True)\n"
     ]
    }
   ],
   "source": [
    "_ = run_adam()"
   ]
  },
  {
   "cell_type": "markdown",
   "metadata": {},
   "source": [
    "## 좀 더 상세하게 비교해볼까요?\n",
    "\n",
    "`pytorch`에서 `nn.Linear`를 비롯한 많은 모듈들은 특별한 경우가 아닌이상,\n",
    "모듈내에 파라미터가 임의의 값으로 __잘!__ 초기화 됩니다. \n",
    "\n",
    "> \"잘!\" 에 대해서는 수업에서 다루지 않았지만, 확실히 현대 딥러닝이 잘 작동하게 하는 중요한 요소중에 하나입니다. Parameter initialization 이라고 부르는 기법들이며, 대부분의 `pytorch` 모듈들은 각각의 모듈에 따라서 일반적으로 잘 작동하는것으로 알려져있는 방식으로 파라미터들이 초기화 되게 코딩되어 있습니다.\n",
    "\n",
    "그래서 매 번 모듈을 생성할때마다 파라미터의 초기값이 달라지게 됩니다. 이번에는 조금 공정한 비교를 위해서 위에서 했던 실험을 여러번 반복해서 평균적으로도 Adam이 좋은지 확인해볼까요?"
   ]
  },
  {
   "cell_type": "code",
   "execution_count": 32,
   "metadata": {},
   "outputs": [],
   "source": [
    "sgd_losses = [run_sgd(verbose=False) for _ in range(50)]\n",
    "sgd_losses = np.stack(sgd_losses)\n",
    "sgd_loss_mean = np.mean(sgd_losses, axis=0)\n",
    "sgd_loss_std = np.std(sgd_losses, axis=-0)"
   ]
  },
  {
   "cell_type": "code",
   "execution_count": 36,
   "metadata": {},
   "outputs": [],
   "source": [
    "adam_losses = [run_adam(verbose=False) for _ in range(50)]\n",
    "adam_losses = np.stack(adam_losses)\n",
    "adam_loss_mean = np.mean(adam_losses, axis=0)\n",
    "adam_loss_std = np.std(adam_losses, axis=-0)"
   ]
  },
  {
   "cell_type": "code",
   "execution_count": 68,
   "metadata": {},
   "outputs": [
    {
     "data": {
      "text/plain": [
       "<matplotlib.legend.Legend at 0x7f92f205d220>"
      ]
     },
     "execution_count": 68,
     "metadata": {},
     "output_type": "execute_result"
    },
    {
     "data": {
      "image/png": "[encoded data removed]",
      "text/plain": [
       "<Figure size 720x360 with 1 Axes>"
      ]
     },
     "metadata": {
      "needs_background": "light"
     },
     "output_type": "display_data"
    }
   ],
   "source": [
    "fig, ax = plt.subplots(1,1, figsize=(10,5))\n",
    "ax.grid()\n",
    "ax.fill_between(x=range(sgd_loss_mean.shape[0]),\n",
    "                y1=sgd_loss_mean + sgd_loss_std,\n",
    "                y2=sgd_loss_mean - sgd_loss_std,\n",
    "                alpha=0.3)\n",
    "ax.plot(sgd_loss_mean, label='SGD')\n",
    "ax.fill_between(x=range(adam_loss_mean.shape[0]),\n",
    "                y1=adam_loss_mean + adam_loss_std,\n",
    "                y2=adam_loss_mean - adam_loss_std,\n",
    "                alpha=0.3)\n",
    "ax.plot(adam_loss_mean, label='Adam')\n",
    "ax.legend()"
   ]
  }
 ],
 "metadata": {
  "kernelspec": {
   "display_name": "Python 3",
   "language": "python",
   "name": "python3"
  },
  "language_info": {
   "codemirror_mode": {
    "name": "ipython",
    "version": 3
   },
   "file_extension": ".py",
   "mimetype": "text/x-python",
   "name": "python",
   "nbconvert_exporter": "python",
   "pygments_lexer": "ipython3",
   "version": "3.7.5"
  }
 },
 "nbformat": 4,
 "nbformat_minor": 4
}
